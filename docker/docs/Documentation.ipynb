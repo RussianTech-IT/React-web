{
 "cells": [
  {
   "attachments": {},
   "cell_type": "markdown",
   "metadata": {},
   "source": [
    "<div align=\"center\">\n",
    "    <h1><strong>Introduction Docker containers 🐳</strong></h1>\n",
    "</div>\n",
    "\n",
    "---\n",
    "\n",
    "- Frontend debug:\n",
    "```\n",
    "        ./start -fBS\n",
    "```\n",
    "\n",
    "- Backend debug:\n",
    "```\n",
    "        ./start -bBS\n",
    "```\n",
    "- Fullstack build:\n",
    "```\n",
    "        ./start -FBU\n",
    "```\n",
    "- Fullstack build and run:\n",
    "```\n",
    "        ./start -FBUS\n",
    "```\n",
    "- Fullstack debug run:\n",
    "```\n",
    "        ./start -fbBUS\n",
    "```"
   ]
  },
  {
   "attachments": {},
   "cell_type": "markdown",
   "metadata": {},
   "source": [
    "---"
   ]
  },
  {
   "attachments": {},
   "cell_type": "markdown",
   "metadata": {},
   "source": [
    "## Help for this start util CLI:"
   ]
  },
  {
   "attachments": {},
   "cell_type": "markdown",
   "metadata": {},
   "source": [
    "```\n",
    "usage: start [-h] [-F] [-b] [-f] [-a] [-U] [-S] [-B] [-d]\n",
    "\n",
    "options:\n",
    "  -h, --help    show this help message and exit\n",
    "  -F, --full    selects target full\n",
    "  -b, --back    selects target backend\n",
    "  -f, --front   selects target frontend\n",
    "  -a, --admin   selects target full\n",
    "  -U, --update  updates the selected target(s)\n",
    "  -S, --start   launches the selected target(s)\n",
    "  -B, --build   build the selected target(s)'s docker files\n",
    "  -d, --docker  set docker compose command to docker-compose\n",
    "\n",
    "```"
   ]
  },
  {
   "attachments": {},
   "cell_type": "markdown",
   "metadata": {},
   "source": [
    "---"
   ]
  },
  {
   "attachments": {},
   "cell_type": "markdown",
   "metadata": {},
   "source": [
    "<div align=\"center\"><h1><strong>Happy coding! ✅</strong></h1></div>"
   ]
  }
 ],
 "metadata": {
  "language_info": {
   "name": "python"
  },
  "orig_nbformat": 4
 },
 "nbformat": 4,
 "nbformat_minor": 2
}
