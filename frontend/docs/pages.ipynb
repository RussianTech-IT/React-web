{
 "cells": [
  {
   "attachments": {},
   "cell_type": "markdown",
   "metadata": {},
   "source": [
    "<h1 align=\"center\"> Pages 💻 </h1>\n",
    "<h5 align=\"center\">Сведения и описание компонентов, которые находятся внутри этой папки</h5>\n",
    "\n",
    "---"
   ]
  },
  {
   "attachments": {},
   "cell_type": "markdown",
   "metadata": {},
   "source": [
    "# Navbar"
   ]
  },
  {
   "cell_type": "code",
   "execution_count": null,
   "metadata": {
    "vscode": {
     "languageId": "javascript"
    }
   },
   "outputs": [],
   "source": [
    "function Navbar() {\n",
    "\treturn (\n",
    "\t\t<header class=\"header\">\n",
    "\t\t\t<nav>\n",
    "\t\t\t\t<div class=\"logo\">\n",
    "\t\t\t\t\t<a href=\"/\">Russian<span>Tech</span></a>\n",
    "\t\t\t\t</div>\n",
    "\t\t\t\t<input type=\"checkbox\" id=\"menu-toggle\" />\n",
    "\t\t\t\t<label for=\"menu-toggle\" class=\"menu-icon\">&#9776;</label>\n",
    "\t\t\t\t<ul class=\"menu\">\n",
    "\t\t\t\t\t<li><a href=\"/\">Главная</a></li>\n",
    "\t\t\t\t\t<li><a href=\"/\">О нас</a></li>\n",
    "\t\t\t\t\t<li><a href=\"/\">Блог</a></li>\n",
    "\t\t\t\t\t<li><a href=\"/\">Связь</a></li>\n",
    "\t\t\t\t</ul>\n",
    "\t\t\t</nav>\n",
    "\t\t</header>\n",
    "\t);\n",
    "};"
   ]
  },
  {
   "attachments": {},
   "cell_type": "markdown",
   "metadata": {},
   "source": [
    "### Example:\n",
    "<img src=\"./assets/header.png\" />"
   ]
  },
  {
   "attachments": {},
   "cell_type": "markdown",
   "metadata": {},
   "source": [
    "## CardLanguage"
   ]
  },
  {
   "cell_type": "code",
   "execution_count": null,
   "metadata": {
    "vscode": {
     "languageId": "javascript"
    }
   },
   "outputs": [],
   "source": [
    "function CardLanguage({ imageSrc, title, description, hoverText }) {\n",
    "    return (\n",
    "      <div className=\"card\">\n",
    "        <div className=\"icon\">\n",
    "          <img src={imageSrc} alt=\"icon\" />\n",
    "        </div>\n",
    "        <strong>{title}</strong>\n",
    "        <div className=\"card__body\">{description}</div>\n",
    "        <span>{hoverText}</span>\n",
    "      </div>\n",
    "    );\n",
    "  }\n",
    "\n",
    "export default CardLanguage"
   ]
  },
  {
   "attachments": {},
   "cell_type": "markdown",
   "metadata": {},
   "source": [
    "### Props:\n",
    "- imageSrc - логотип языка программирования\n",
    "- title - название языка программирования\n",
    "- description - описание карточки"
   ]
  },
  {
   "attachments": {},
   "cell_type": "markdown",
   "metadata": {},
   "source": [
    "### Example:"
   ]
  },
  {
   "attachments": {},
   "cell_type": "markdown",
   "metadata": {},
   "source": [
    "<img src=\"https://i.ibb.co/VmnnhZ6/2023-08-06-15-26-51.png\" alt=\"2023-08-06-15-26-51\" border=\"0\">"
   ]
  },
  {
   "attachments": {},
   "cell_type": "markdown",
   "metadata": {},
   "source": [
    "# CardAbout"
   ]
  },
  {
   "cell_type": "code",
   "execution_count": null,
   "metadata": {
    "vscode": {
     "languageId": "javascript"
    }
   },
   "outputs": [],
   "source": [
    "function CardAbout({ title, description }) {\n",
    "    return (\n",
    "        <motion.div animate={\"visible\"} className='card-about-component' >\n",
    "            <h2>{title}</h2>\n",
    "            <p>{description}</p>\n",
    "        </motion.div>\n",
    "    )\n",
    "}"
   ]
  },
  {
   "attachments": {},
   "cell_type": "markdown",
   "metadata": {},
   "source": [
    "## Props:\n",
    "- title - Заголовок\n",
    "- description - Описание"
   ]
  },
  {
   "attachments": {},
   "cell_type": "markdown",
   "metadata": {},
   "source": [
    "## Example:\n",
    "<img src=\"./assets/CardAbout.png\" />"
   ]
  },
  {
   "attachments": {},
   "cell_type": "markdown",
   "metadata": {},
   "source": [
    "# Loader"
   ]
  },
  {
   "cell_type": "code",
   "execution_count": null,
   "metadata": {
    "vscode": {
     "languageId": "javascript"
    }
   },
   "outputs": [],
   "source": [
    "function Loader() {\n",
    "    return (\n",
    "        <div className=\"loader-page\">\n",
    "            <div class=\"loader\">\n",
    "                <div class=\"loader-square\"></div>\n",
    "                <div class=\"loader-square\"></div>\n",
    "                <div class=\"loader-square\"></div>\n",
    "                <div class=\"loader-square\"></div>\n",
    "                <div class=\"loader-square\"></div>\n",
    "                <div class=\"loader-square\"></div>\n",
    "                <div class=\"loader-square\"></div>\n",
    "            </div>\n",
    "        </div>\n",
    "    )\n",
    "}"
   ]
  },
  {
   "attachments": {},
   "cell_type": "markdown",
   "metadata": {},
   "source": [
    "- Для загрузки компонентов с клиентской стороны"
   ]
  },
  {
   "attachments": {},
   "cell_type": "markdown",
   "metadata": {},
   "source": [
    "# Home"
   ]
  },
  {
   "cell_type": "code",
   "execution_count": null,
   "metadata": {
    "vscode": {
     "languageId": "javascript"
    }
   },
   "outputs": [],
   "source": [
    "function Home() {\n",
    "    const languageList = [\n",
    "        {\n",
    "            imageSrc: \"./icons/languages/introduction_card.svg\",\n",
    "            title: \"Введение\",\n",
    "            description: \"Введение в основные понятия и терминологии\",\n",
    "            hoverText: \"Познакомьтесь с миром IT\",\n",
    "        },\n",
    "        {\n",
    "            imageSrc: \"./icons/languages/python.svg\",\n",
    "            title: \"Python\",\n",
    "            description: \"Введение в язык и принципы работы с ним\",\n",
    "            hoverText: \"Обучение Python с нуля\",\n",
    "        },\n",
    "        {\n",
    "            imageSrc: \"./icons/languages/cplusplus.svg\",\n",
    "            title: \"C++\",\n",
    "            description: \"description\",\n",
    "            hoverText: \"Обучение C++ с нуля\",\n",
    "        },\n",
    "        {\n",
    "            imageSrc: \"./icons/languages/javascript.svg\",\n",
    "            title: \"JS\",\n",
    "            description: \"Крутой\",\n",
    "            hoverText: \"Обучение Python  с нуля\",\n",
    "        },\n",
    "        {\n",
    "            imageSrc: \"./icons/languages/swift.svg\",\n",
    "            title: \"Swift\",\n",
    "            description: \"Крутой\",\n",
    "            hoverText: \"Обучение Python  с нуля\",\n",
    "        },\n",
    "        {\n",
    "            imageSrc: \"./icons/languages/csharp.svg\",\n",
    "            title: \"C#\",\n",
    "            description: \"Крутой\",\n",
    "            hoverText: \"Обучение Python  с нуля\",\n",
    "        },\n",
    "        {\n",
    "            imageSrc: \"./icons/languages/html_css.svg\",\n",
    "            title: \"HTML & CSS\",\n",
    "            description: \"Крутой\",\n",
    "            hoverText: \"Обучение Python  с нуля\",\n",
    "        },\n",
    "        {\n",
    "            imageSrc: \"./icons/languages/php.svg\",\n",
    "            title: \"PHP\",\n",
    "            description: \"Крутой\",\n",
    "            hoverText: \"Обучение PHP с нуля\",\n",
    "        },\n",
    "        {\n",
    "            imageSrc: \"./icons/languages/java.svg\",\n",
    "            title: \"Java\",\n",
    "            description: \"Крутой\",\n",
    "            hoverText: \"Обучение Python  с нуля\",\n",
    "        },\n",
    "        {\n",
    "            imageSrc: \"./icons/languages/kotlin.svg\",\n",
    "            title: \"Kotlin\",\n",
    "            description: \"Крутой\",\n",
    "            hoverText: \"Обучение Python  с нуля\",\n",
    "        },\n",
    "        {\n",
    "            imageSrc: \"./icons/languages/rust.svg\",\n",
    "            title: \"Rust\",\n",
    "            description: \"Крутой\",\n",
    "            hoverText: \"Обучение Python  с нуля\",\n",
    "        }\n",
    "    ];\n",
    "\n",
    "    return (\n",
    "        <div className=\"home\">\n",
    "            <Navbar />\n",
    "            <div className=\"list-language\">\n",
    "                <section>\n",
    "                    {languageList.map((data, index) => (\n",
    "                        <CardLanguage\n",
    "                            key={index}\n",
    "                            imageSrc={data.imageSrc}\n",
    "                            title={data.title}\n",
    "                            description={data.description}\n",
    "                            hoverText={data.hoverText}\n",
    "                        />\n",
    "                    ))}\n",
    "                </section>\n",
    "            </div>\n",
    "            <Footer />\n",
    "        </div>\n",
    "    )\n",
    "}"
   ]
  },
  {
   "attachments": {},
   "cell_type": "markdown",
   "metadata": {},
   "source": [
    "- Отрисовка карточек просиходит по массиву:"
   ]
  },
  {
   "cell_type": "code",
   "execution_count": null,
   "metadata": {
    "vscode": {
     "languageId": "javascript"
    }
   },
   "outputs": [],
   "source": [
    "const languageList = []"
   ]
  },
  {
   "attachments": {},
   "cell_type": "markdown",
   "metadata": {},
   "source": [
    "---"
   ]
  },
  {
   "attachments": {},
   "cell_type": "markdown",
   "metadata": {},
   "source": [
    "<a href=\"https://www.figma.com/file/TyBw6ei2vwON9xEMNoyKEp/Russian-Tech-ReactJS-UI?type=design&node-id=15%3A8&mode=design&t=WenpknwVBPmqS6k3-1\" style=\"color: white; cursor: pointer; font-size: 2em\"><strong>Link Figma UI Design 📎</strong></a>"
   ]
  }
 ],
 "metadata": {
  "language_info": {
   "name": "python"
  },
  "orig_nbformat": 4
 },
 "nbformat": 4,
 "nbformat_minor": 2
}
