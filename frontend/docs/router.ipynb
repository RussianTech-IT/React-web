{
 "cells": [
  {
   "attachments": {},
   "cell_type": "markdown",
   "metadata": {},
   "source": [
    "<h1 align=\"center\"> Router 🔀 </h1>\n",
    "<h5 align=\"center\">Описание папки и файла в ней</h5>\n",
    "\n",
    "---"
   ]
  },
  {
   "attachments": {},
   "cell_type": "markdown",
   "metadata": {},
   "source": [
    "# Router.jsx"
   ]
  },
  {
   "cell_type": "code",
   "execution_count": null,
   "metadata": {
    "vscode": {
     "languageId": "javascript"
    }
   },
   "outputs": [],
   "source": [
    "import React from 'react'\n",
    "import { Routes, Route } from 'react-router-dom'\n",
    "import { Suspense } from 'react';\n",
    "import Start from '../pages/Start/Start'\n",
    "import Loader from '../pages/components/Loader/Loader'\n",
    "import Home from '../pages/Home/Home'\n",
    "import About from '../pages/About/About'\n",
    "import Blog from '../pages/Blog/Blog';\n",
    "\n",
    "function Router() {\n",
    "    return (\n",
    "        <Suspense fallback={<Loader />}>\n",
    "            <Routes>\n",
    "                <Route path='/' element={<Start />} />\n",
    "                <Route path='/home' element={<Home />} />\n",
    "                <Route path='/about' element={<About />} />\n",
    "                <Route path='/blog' element={<Blog />} />\n",
    "                <Route path='*' element={<div>404</div>} />\n",
    "            </Routes>\n",
    "        </Suspense>\n",
    "\n",
    "    )\n",
    "}\n",
    "\n",
    "export default Router"
   ]
  },
  {
   "attachments": {},
   "cell_type": "markdown",
   "metadata": {},
   "source": [
    "- Импортирование компонентов\n",
    "- Занесение элементов (компонентов) и присваивание им путей\n",
    "---\n"
   ]
  },
  {
   "attachments": {},
   "cell_type": "markdown",
   "metadata": {},
   "source": [
    "### Загрузка страниц:"
   ]
  },
  {
   "cell_type": "code",
   "execution_count": null,
   "metadata": {
    "vscode": {
     "languageId": "javascript"
    }
   },
   "outputs": [],
   "source": [
    "<Suspense fallback={<Loader />}></Suspense>"
   ]
  },
  {
   "attachments": {},
   "cell_type": "markdown",
   "metadata": {},
   "source": [
    "### Передача роутов:"
   ]
  },
  {
   "cell_type": "code",
   "execution_count": null,
   "metadata": {
    "vscode": {
     "languageId": "javascript"
    }
   },
   "outputs": [],
   "source": [
    "<Routes></Routes>"
   ]
  },
  {
   "attachments": {},
   "cell_type": "markdown",
   "metadata": {},
   "source": [
    "### Адреса и элементы для этих адресов:"
   ]
  },
  {
   "cell_type": "code",
   "execution_count": null,
   "metadata": {
    "vscode": {
     "languageId": "javascript"
    }
   },
   "outputs": [],
   "source": [
    "\n",
    "<Route path='/home' element={<Home />} /> // path - адрес, element - компонент, на который ведёт адрес"
   ]
  }
 ],
 "metadata": {
  "language_info": {
   "name": "python"
  },
  "orig_nbformat": 4
 },
 "nbformat": 4,
 "nbformat_minor": 2
}
